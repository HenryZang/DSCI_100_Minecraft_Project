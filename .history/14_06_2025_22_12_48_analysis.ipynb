{
 "cells": [
  {
   "cell_type": "code",
   "execution_count": null,
   "id": "459f5b9a-d069-4360-8aa8-15cc00269b34",
   "metadata": {},
   "outputs": [],
   "source": [
    "library(tidyverse)"
   ]
  },
  {
   "cell_type": "markdown",
   "id": "d5bffaf7-e765-4319-a883-a49143214d90",
   "metadata": {},
   "source": [
    "Title: \"Classifying Subscriber Likelihood in a Minecraft Research Server: A Comparison of Demographic and Behavioral Predictors\""
   ]
  },
  {
   "cell_type": "code",
   "execution_count": null,
   "id": "2ecedfb4-6a4a-40f9-b463-82c5b764a3ed",
   "metadata": {},
   "outputs": [],
   "source": []
  }
 ],
 "metadata": {
  "kernelspec": {
   "display_name": "R",
   "language": "R",
   "name": "ir"
  },
  "language_info": {
   "codemirror_mode": "r",
   "file_extension": ".r",
   "mimetype": "text/x-r-source",
   "name": "R",
   "pygments_lexer": "r",
   "version": "4.3.3"
  }
 },
 "nbformat": 4,
 "nbformat_minor": 5
}
